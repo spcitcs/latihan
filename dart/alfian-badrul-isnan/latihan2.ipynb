{
 "cells": [
  {
   "cell_type": "code",
   "execution_count": 1,
   "metadata": {},
   "outputs": [
    {
     "name": "stdout",
     "output_type": "stream",
     "text": [
      "10\n"
     ]
    }
   ],
   "source": [
    "int x = 10;\n",
    "print(x);"
   ]
  }
 ],
 "metadata": {
  "kernelspec": {
   "display_name": "Dart",
   "language": "",
   "name": "jupyterdartkernel"
  },
  "language_info": {
   "file_extension": "dart",
   "mimetype": "application/dart",
   "name": "dart"
  }
 },
 "nbformat": 4,
 "nbformat_minor": 2
}
